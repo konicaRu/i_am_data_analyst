{
  "cells": [
    {
      "cell_type": "markdown",
      "metadata": {
        "id": "view-in-github",
        "colab_type": "text"
      },
      "source": [
        "<a href=\"https://colab.research.google.com/github/konicaRu/i_am_data_analyst/blob/master/%D0%98%D0%98_%D1%82%D1%80%D0%B0%D0%BD%D1%81%D0%BA%D1%80%D0%B8%D0%B1%D0%B0%D1%82%D0%BE%D1%80.ipynb\" target=\"_parent\"><img src=\"https://colab.research.google.com/assets/colab-badge.svg\" alt=\"Open In Colab\"/></a>"
      ]
    },
    {
      "cell_type": "markdown",
      "metadata": {
        "id": "MPRyJztFnDP1"
      },
      "source": [
        "\n",
        "**Транскрибатор с ИИ от @sorokin_vr**\n",
        "\n",
        "[Подробная видео инструкция](https://youtu.be/yFO1PJ0NEFk)\n",
        "\n",
        "[Мой ТГ канал](https://t.me/sorokin_vr)"
      ]
    },
    {
      "cell_type": "markdown",
      "source": [
        "# Новый раздел"
      ],
      "metadata": {
        "id": "06wU5HyL177l"
      }
    },
    {
      "cell_type": "markdown",
      "source": [
        "**Шаг 1. Установка программного обеспечения**"
      ],
      "metadata": {
        "id": "iGH4gV3O8B6s"
      }
    },
    {
      "cell_type": "code",
      "execution_count": null,
      "metadata": {
        "id": "kLEkmWO1nHQ3"
      },
      "outputs": [],
      "source": [
        "!pip install git+https://github.com/openai/whisper.git > /dev/null 2>&1\n",
        "!sudo apt update && sudo apt install ffmpeg -y > /dev/null 2>&1\n",
        "!pip install yt-dlp > /dev/null 2>&1\n",
        "\n",
        "import os\n",
        "import whisper\n",
        "import shutil\n",
        "import pandas as pd\n",
        "from subprocess import call\n",
        "\n",
        "# Создание папки для транскрибаций, аудио и видео\n",
        "os.makedirs('Transcriptions')\n",
        "os.makedirs('Audio')\n",
        "os.makedirs('Video')"
      ]
    },
    {
      "cell_type": "markdown",
      "source": [
        "**Шаг 2. Скачивания аудио**"
      ],
      "metadata": {
        "id": "tbCKQgoo8HjZ"
      }
    },
    {
      "cell_type": "code",
      "execution_count": null,
      "metadata": {
        "id": "UZDygLIt5-ZT",
        "cellView": "form"
      },
      "outputs": [],
      "source": [
        "download_mode = 'both'  # @param {type:\"string\"}\n",
        "# Определение URL-адресов как переменных\n",
        "video_url1 = 'https://www.youtube.com/watch?v=gyvh3aA-9RA' #@param {type:\"string\"}\n",
        "video_url2 = '' #@param {type:\"string\"}\n",
        "video_url3 = '' #@param {type:\"string\"}\n",
        "video_url4 = '' #@param {type:\"string\"}\n",
        "video_url5 = '' #@param {type:\"string\"}\n",
        "video_url6 = '' #@param {type:\"string\"}\n",
        "video_url7 = '' #@param {type:\"string\"}\n",
        "video_url8 = '' #@param {type:\"string\"}\n",
        "video_url9 = '' #@param {type:\"string\"}\n",
        "video_url10 = '' #@param {type:\"string\"}\n",
        "video_url11 = '' #@param {type:\"string\"}\n",
        "video_url12 = '' #@param {type:\"string\"}\n",
        "video_url13 = '' #@param {type:\"string\"}\n",
        "video_url14 = '' #@param {type:\"string\"}\n",
        "video_url15 = '' #@param {type:\"string\"}\n",
        "video_url16 = '' #@param {type:\"string\"}\n",
        "video_url17 = '' #@param {type:\"string\"}\n",
        "video_url18 = '' #@param {type:\"string\"}\n",
        "video_url19 = '' #@param {type:\"string\"}\n",
        "video_url20 = '' #@param {type:\"string\"}\n",
        "video_url21 = '' #@param {type:\"string\"}\n",
        "video_url22 = '' #@param {type:\"string\"}\n",
        "video_url23 = '' #@param {type:\"string\"}\n",
        "video_url24 = '' #@param {type:\"string\"}\n",
        "video_url25 = '' #@param {type:\"string\"}\n",
        "\n",
        "# Сборка списка URL-адресов\n",
        "video_urls = [video_url1, video_url2, video_url3, video_url4, video_url5,\n",
        "              video_url6, video_url7, video_url8, video_url9, video_url10,\n",
        "              video_url11, video_url12, video_url13, video_url14, video_url15,\n",
        "              video_url16, video_url17, video_url18, video_url19, video_url20,\n",
        "              video_url21, video_url22, video_url23, video_url24, video_url25]\n",
        "\n",
        "\n",
        "# Фильтрация списка для удаления пустых URL\n",
        "video_urls = [url for url in video_urls if url]\n",
        "\n",
        "# Цикл для скачивания каждого видео\n",
        "for i, video_url in enumerate(video_urls, start=1):\n",
        "    # Скачивание аудио\n",
        "    call(['yt-dlp', '-x', '--audio-format', 'mp3', video_url, '-o', f'Audio/audio{i}.mp3'])\n",
        "\n",
        "    # Скачивание видео, если выбран режим 'both'\n",
        "    if download_mode == 'both':\n",
        "        call(['yt-dlp', video_url, '-o', f'Video/video{i}.%(ext)s'])\n",
        "\n",
        "# Архивация скачанных видео файлов, если было скачивание видео\n",
        "if download_mode == 'both':\n",
        "    shutil.make_archive('VideoArchive', 'zip', 'Video')"
      ]
    },
    {
      "cell_type": "markdown",
      "source": [
        "**Шаг 3. Транскрибация**"
      ],
      "metadata": {
        "id": "k7DLu_4a8KZc"
      }
    },
    {
      "cell_type": "code",
      "execution_count": null,
      "metadata": {
        "id": "IvlYJCT973_3"
      },
      "outputs": [],
      "source": [
        "# Пути к папкам\n",
        "audio_folder = \"/content/Audio\"  # Путь к вашей папке с аудио\n",
        "transcriptions_folder = \"/content/Transcriptions\"  # Путь к папке для транскрибаций\n",
        "\n",
        "# Получение списка аудиофайлов\n",
        "audio_files = [f for f in os.listdir(audio_folder) if f.endswith('.mp3')]\n",
        "\n",
        "# Загрузка модели Whisper\n",
        "model_type = \"large-v3\"  # Или \"base\" для более быстрой обработки\n",
        "language = \"ru\"  # Укажите нужный язык\n",
        "\n",
        "model = whisper.load_model(model_type)\n",
        "\n",
        "for file in audio_files:\n",
        "    file_path = os.path.join(audio_folder, file)\n",
        "\n",
        "    # Используем параметр logprob_threshold для получения детализированного вывода\n",
        "    result = model.transcribe(file_path, language=language, logprob_threshold=-10)\n",
        "\n",
        "    # Получение чистого текста\n",
        "    text = result[\"text\"]\n",
        "\n",
        "    # Форматирование текста с таймкодами\n",
        "    segments = result[\"segments\"]\n",
        "    text_with_timestamps = \"\\n\".join([f\"[{segment['start']:.2f} - {segment['end']:.2f}] {segment['text']}\" for segment in segments])\n",
        "\n",
        "    # Сохранение чистого текста\n",
        "    txt_path = os.path.join(transcriptions_folder, file.replace('.mp3', '_clean.txt'))\n",
        "    with open(txt_path, 'w') as txt_file:\n",
        "        txt_file.write(text)\n",
        "\n",
        "    # Сохранение текста с таймкодами\n",
        "    txt_path_with_timestamps = os.path.join(transcriptions_folder, file.replace('.mp3', '_with_timestamps.txt'))\n",
        "    with open(txt_path_with_timestamps, 'w') as txt_file:\n",
        "        txt_file.write(text_with_timestamps)\n",
        "\n",
        "shutil.make_archive('Transcriptions', 'zip', 'Transcriptions')"
      ]
    }
  ],
  "metadata": {
    "accelerator": "GPU",
    "colab": {
      "gpuType": "T4",
      "provenance": [],
      "include_colab_link": true
    },
    "kernelspec": {
      "display_name": "Python 3",
      "name": "python3"
    },
    "language_info": {
      "name": "python"
    }
  },
  "nbformat": 4,
  "nbformat_minor": 0
}